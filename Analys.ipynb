{
 "cells": [
  {
   "cell_type": "code",
   "execution_count": 43,
   "id": "8117a615",
   "metadata": {},
   "outputs": [],
   "source": [
    "import pandas as pd\n",
    "from sklearn.preprocessing import LabelEncoder\n",
    "import numpy as np"
   ]
  },
  {
   "cell_type": "code",
   "execution_count": 44,
   "id": "69e3b4d9",
   "metadata": {},
   "outputs": [],
   "source": [
    "import seaborn as sns\n",
    "%matplotlib inline"
   ]
  },
  {
   "cell_type": "code",
   "execution_count": 45,
   "id": "0fb4033d",
   "metadata": {
    "scrolled": false
   },
   "outputs": [
    {
     "data": {
      "text/html": [
       "<div>\n",
       "<style scoped>\n",
       "    .dataframe tbody tr th:only-of-type {\n",
       "        vertical-align: middle;\n",
       "    }\n",
       "\n",
       "    .dataframe tbody tr th {\n",
       "        vertical-align: top;\n",
       "    }\n",
       "\n",
       "    .dataframe thead th {\n",
       "        text-align: right;\n",
       "    }\n",
       "</style>\n",
       "<table border=\"1\" class=\"dataframe\">\n",
       "  <thead>\n",
       "    <tr style=\"text-align: right;\">\n",
       "      <th></th>\n",
       "      <th>Наименование_вакансии</th>\n",
       "      <th>Ссылка_на_вакансию</th>\n",
       "      <th>Опыт_работы</th>\n",
       "      <th>Ключевые_навыки</th>\n",
       "      <th>Зарплата</th>\n",
       "    </tr>\n",
       "  </thead>\n",
       "  <tbody>\n",
       "    <tr>\n",
       "      <th>0</th>\n",
       "      <td>Data Scientist ООО ХАЙТЕКИНЖИНИРИНГ</td>\n",
       "      <td>https://hh.ru/vacancy/48101680?query=data%20sc...</td>\n",
       "      <td>1–3 года</td>\n",
       "      <td>['Python', 'PyTorch', 'Keras', 'Tensorflow', '...</td>\n",
       "      <td>от200 000руб.довычетаналогов</td>\n",
       "    </tr>\n",
       "    <tr>\n",
       "      <th>1</th>\n",
       "      <td>Data Scientist (antifraud) Авито</td>\n",
       "      <td>https://hh.ru/vacancy/48120590?query=data%20sc...</td>\n",
       "      <td>3–6 лет</td>\n",
       "      <td>['Python', 'Data Science', 'Машинное обучение']</td>\n",
       "      <td>з/пнеуказана</td>\n",
       "    </tr>\n",
       "    <tr>\n",
       "      <th>2</th>\n",
       "      <td>Data Scientist (команда Поиска) HeadHunter::An...</td>\n",
       "      <td>https://hh.ru/vacancy/46048820?query=data%20sc...</td>\n",
       "      <td>3–6 лет</td>\n",
       "      <td>['Python', 'PyTorch', 'SQL', 'Machine Learning...</td>\n",
       "      <td>з/пнеуказана</td>\n",
       "    </tr>\n",
       "    <tr>\n",
       "      <th>3</th>\n",
       "      <td>Senior Data Scientist (Computer Vision) - Synt...</td>\n",
       "      <td>https://hh.ru/vacancy/48212689?query=data%20sc...</td>\n",
       "      <td>3–6 лет</td>\n",
       "      <td>['Python', 'Linux', 'Английский язык', 'Comput...</td>\n",
       "      <td>з/пнеуказана</td>\n",
       "    </tr>\n",
       "    <tr>\n",
       "      <th>4</th>\n",
       "      <td>Системный аналитик\\ data scientist HFLabs</td>\n",
       "      <td>https://hh.ru/vacancy/47688264?query=data%20sc...</td>\n",
       "      <td>1–3 года</td>\n",
       "      <td>['Бизнес-анализ', 'SQL', 'Системный анализ', '...</td>\n",
       "      <td>от190 000до250 000руб.наруки</td>\n",
       "    </tr>\n",
       "  </tbody>\n",
       "</table>\n",
       "</div>"
      ],
      "text/plain": [
       "                               Наименование_вакансии  \\\n",
       "0                Data Scientist ООО ХАЙТЕКИНЖИНИРИНГ   \n",
       "1                   Data Scientist (antifraud) Авито   \n",
       "2  Data Scientist (команда Поиска) HeadHunter::An...   \n",
       "3  Senior Data Scientist (Computer Vision) - Synt...   \n",
       "4          Системный аналитик\\ data scientist HFLabs   \n",
       "\n",
       "                                  Ссылка_на_вакансию Опыт_работы  \\\n",
       "0  https://hh.ru/vacancy/48101680?query=data%20sc...    1–3 года   \n",
       "1  https://hh.ru/vacancy/48120590?query=data%20sc...     3–6 лет   \n",
       "2  https://hh.ru/vacancy/46048820?query=data%20sc...     3–6 лет   \n",
       "3  https://hh.ru/vacancy/48212689?query=data%20sc...     3–6 лет   \n",
       "4  https://hh.ru/vacancy/47688264?query=data%20sc...    1–3 года   \n",
       "\n",
       "                                     Ключевые_навыки  \\\n",
       "0  ['Python', 'PyTorch', 'Keras', 'Tensorflow', '...   \n",
       "1    ['Python', 'Data Science', 'Машинное обучение']   \n",
       "2  ['Python', 'PyTorch', 'SQL', 'Machine Learning...   \n",
       "3  ['Python', 'Linux', 'Английский язык', 'Comput...   \n",
       "4  ['Бизнес-анализ', 'SQL', 'Системный анализ', '...   \n",
       "\n",
       "                       Зарплата  \n",
       "0  от200 000руб.довычетаналогов  \n",
       "1                  з/пнеуказана  \n",
       "2                  з/пнеуказана  \n",
       "3                  з/пнеуказана  \n",
       "4  от190 000до250 000руб.наруки  "
      ]
     },
     "execution_count": 45,
     "metadata": {},
     "output_type": "execute_result"
    }
   ],
   "source": [
    "df = pd.read_csv(\"vacancies.csv\", delimiter=';')\n",
    "df.head()"
   ]
  },
  {
   "cell_type": "code",
   "execution_count": 46,
   "id": "55db4359",
   "metadata": {},
   "outputs": [],
   "source": [
    "df = df.drop([\"Наименование_вакансии\", \"Ссылка_на_вакансию\"], axis=1)"
   ]
  },
  {
   "cell_type": "code",
   "execution_count": null,
   "id": "a94279f5",
   "metadata": {},
   "outputs": [],
   "source": []
  },
  {
   "cell_type": "code",
   "execution_count": 47,
   "id": "5cd6c0a9",
   "metadata": {},
   "outputs": [],
   "source": [
    "df = df.drop(df[df.Опыт_работы == \"Опыт_работы\"].index)"
   ]
  },
  {
   "cell_type": "code",
   "execution_count": 48,
   "id": "fb71e9e6",
   "metadata": {},
   "outputs": [
    {
     "data": {
      "text/plain": [
       "Зарплата    284\n",
       "dtype: int64"
      ]
     },
     "execution_count": 48,
     "metadata": {},
     "output_type": "execute_result"
    }
   ],
   "source": [
    "pd.DataFrame(df.Зарплата == 'з/пнеуказана').sum()"
   ]
  },
  {
   "cell_type": "code",
   "execution_count": 49,
   "id": "4272d64c",
   "metadata": {},
   "outputs": [
    {
     "data": {
      "text/plain": [
       "Зарплата    62\n",
       "dtype: int64"
      ]
     },
     "execution_count": 49,
     "metadata": {},
     "output_type": "execute_result"
    }
   ],
   "source": [
    "pd.DataFrame(df.Зарплата != 'з/пнеуказана').sum()"
   ]
  },
  {
   "cell_type": "code",
   "execution_count": 50,
   "id": "3ccdc9c2",
   "metadata": {},
   "outputs": [
    {
     "data": {
      "text/plain": [
       "Зарплата    0\n",
       "dtype: int64"
      ]
     },
     "execution_count": 50,
     "metadata": {},
     "output_type": "execute_result"
    }
   ],
   "source": [
    "pd.DataFrame(df.Зарплата == None).sum()"
   ]
  },
  {
   "cell_type": "code",
   "execution_count": 51,
   "id": "e87b0032",
   "metadata": {},
   "outputs": [],
   "source": [
    "df_train = df.drop(df[(df.Зарплата == \"з/пнеуказана\") | (df.Зарплата == np.NaN)].index)"
   ]
  },
  {
   "cell_type": "code",
   "execution_count": 52,
   "id": "dcb2ecef",
   "metadata": {},
   "outputs": [
    {
     "data": {
      "text/plain": [
       "(62, 3)"
      ]
     },
     "execution_count": 52,
     "metadata": {},
     "output_type": "execute_result"
    }
   ],
   "source": [
    "df_train.shape"
   ]
  },
  {
   "cell_type": "code",
   "execution_count": 53,
   "id": "ed6c388c",
   "metadata": {},
   "outputs": [
    {
     "data": {
      "text/plain": [
       "array([False, False, False, False, False, False, False, False, False,\n",
       "       False, False, False, False, False, False, False, False, False,\n",
       "       False, False, False, False, False, False, False, False, False,\n",
       "       False, False, False, False, False, False, False, False, False,\n",
       "       False, False, False, False, False, False, False, False, False,\n",
       "       False, False, False, False, False, False, False, False, False,\n",
       "       False, False, False, False, False, False, False, False])"
      ]
     },
     "execution_count": 53,
     "metadata": {},
     "output_type": "execute_result"
    }
   ],
   "source": [
    "pd.isna(df_train['Зарплата'].index)"
   ]
  },
  {
   "cell_type": "code",
   "execution_count": 54,
   "id": "2e992aee",
   "metadata": {},
   "outputs": [
    {
     "name": "stdout",
     "output_type": "stream",
     "text": [
      "{'3d': 1,\n",
      " '[]': 3,\n",
      " 'a/b тесты': 2,\n",
      " 'adobe photoshop': 1,\n",
      " 'agile project management': 1,\n",
      " 'ai': 4,\n",
      " 'analytical skills': 2,\n",
      " 'ansi sql': 3,\n",
      " 'artificial intelligence': 1,\n",
      " 'asr': 1,\n",
      " 'aws': 3,\n",
      " 'big data': 4,\n",
      " 'bigartm': 1,\n",
      " 'business communication': 1,\n",
      " 'c++': 2,\n",
      " 'clickhouse': 1,\n",
      " 'computer vision': 8,\n",
      " 'cv': 1,\n",
      " 'dask': 3,\n",
      " 'data analysis': 8,\n",
      " 'data mining': 5,\n",
      " 'data science': 10,\n",
      " 'data scientist': 1,\n",
      " 'deep learning': 12,\n",
      " 'digital marketing': 1,\n",
      " 'docker': 3,\n",
      " 'dynamic pricing': 1,\n",
      " 'elasticsearch': 3,\n",
      " 'etl': 1,\n",
      " 'executive search': 1,\n",
      " 'flask': 1,\n",
      " 'git': 5,\n",
      " 'google colab': 1,\n",
      " 'hadoop': 2,\n",
      " 'headhunting': 1,\n",
      " 'hive': 1,\n",
      " 'information technology': 1,\n",
      " 'iot': 3,\n",
      " 'jira': 2,\n",
      " 'jupyter': 3,\n",
      " 'kafka': 1,\n",
      " 'keras': 5,\n",
      " 'leadership skills': 2,\n",
      " 'lgbm': 1,\n",
      " 'linux': 4,\n",
      " 'machine learning': 34,\n",
      " 'marketing analysis': 1,\n",
      " 'mathematical analysis': 1,\n",
      " 'matlab': 1,\n",
      " 'matplotlib': 4,\n",
      " 'mobile': 1,\n",
      " 'ms powerpoint': 3,\n",
      " 'ms visio': 1,\n",
      " 'ner': 2,\n",
      " 'nlp': 8,\n",
      " 'notebook': 1,\n",
      " 'numpy': 10,\n",
      " 'object detection': 1,\n",
      " 'object tracking': 1,\n",
      " 'opencv': 3,\n",
      " 'pandas': 16,\n",
      " 'postgresql': 2,\n",
      " 'power bi': 2,\n",
      " 'product management': 1,\n",
      " 'product promotion': 1,\n",
      " 'python': 51,\n",
      " 'pytorch': 16,\n",
      " 'recruitment': 1,\n",
      " 'reinforcement learning': 1,\n",
      " 'research and development': 1,\n",
      " 'revenue management': 1,\n",
      " 'sagemaker': 1,\n",
      " 'sas': 2,\n",
      " 'scikit_learn': 3,\n",
      " 'scipy': 4,\n",
      " 'seaborn': 3,\n",
      " 'sklearn': 1,\n",
      " 'spark': 8,\n",
      " 'spark mllib': 3,\n",
      " 'speech recognition': 1,\n",
      " 'sql': 25,\n",
      " 'statistics': 2,\n",
      " 'tableau': 1,\n",
      " 'tensorflow': 9,\n",
      " 'teradata': 1,\n",
      " 'trello': 1,\n",
      " 'tts': 1,\n",
      " 'vitis ai': 1,\n",
      " 'xgboost': 2,\n",
      " 'zeppelin': 3,\n",
      " 'адаптация персонала': 1,\n",
      " 'алгоритмы и структуры данных': 1,\n",
      " 'анализ данных': 7,\n",
      " 'анализ рисков': 1,\n",
      " 'аналитика': 1,\n",
      " 'аналитические исследования': 3,\n",
      " 'аналитическое мышление': 2,\n",
      " 'английский язык': 15,\n",
      " 'английский\\\\xa0— a1 — начальный': 1,\n",
      " 'английский\\\\xa0— a2 — элементарный': 1,\n",
      " 'английский\\\\xa0— b1 — средний': 2,\n",
      " 'английский\\\\xa0— b2 — средне-продвинутый': 7,\n",
      " 'английский\\\\xa0— c1 — продвинутый': 6,\n",
      " 'бизнес-анализ': 2,\n",
      " 'быстрая обучаемость': 1,\n",
      " 'временные ряды': 1,\n",
      " 'высокий уровень ответственности': 1,\n",
      " 'инвестиции': 1,\n",
      " 'информационные технологии': 1,\n",
      " 'искусственный интеллект': 1,\n",
      " 'исполнительность': 1,\n",
      " 'коммуникативные навыки': 1,\n",
      " 'маркетинговые исследования': 1,\n",
      " 'маркетинговый анализ': 1,\n",
      " 'математическая статистика': 10,\n",
      " 'математический анализ': 3,\n",
      " 'математическое моделирование': 3,\n",
      " 'машинное обучение': 4,\n",
      " 'мобильные приложения': 1,\n",
      " 'написание научных статей': 1,\n",
      " 'нейронные сети': 2,\n",
      " 'подбор персонала': 1,\n",
      " 'работа с базами данных': 2,\n",
      " 'работа с большим объемом информации': 1,\n",
      " 'рекрутмент': 1,\n",
      " 'системное мышление': 1,\n",
      " 'системный анализ': 2,\n",
      " 'статистический анализ': 5,\n",
      " 'теорема байеса': 1,\n",
      " 'теория вероятностей': 2,\n",
      " 'тестирование': 1,\n",
      " 'удаленная работа': 1,\n",
      " 'умение принимать решения': 3,\n",
      " 'умение управлять временем': 1,\n",
      " 'управление проектами': 1,\n",
      " 'финансовый анализ': 1}\n"
     ]
    }
   ],
   "source": [
    "from pprint import pprint\n",
    "skills_dict = {}\n",
    "for line in df_train[\"Ключевые_навыки\"]:    \n",
    "    for skill in line.split(\"', '\"):\n",
    "        skill = skill.lower()\n",
    "        if skill[:2] == \"['\":\n",
    "            skill = skill[2:]\n",
    "        elif skill[-2:] == \"']\":\n",
    "            skill = skill[:-2]\n",
    "        if skill == 'ml':\n",
    "            skill = 'machine learning'\n",
    "        if ' ' in skill:\n",
    "            skill.replace(' ', '')\n",
    "        if skill in skills_dict:\n",
    "            skills_dict[skill] += 1\n",
    "        else:\n",
    "            skills_dict[skill] = 1\n",
    "pprint(skills_dict)\n",
    "\n",
    "skills_df = pd.DataFrame(list(skills_dict.items()), columns=[\"Skill\", \"Frequency\"])"
   ]
  },
  {
   "cell_type": "code",
   "execution_count": 55,
   "id": "7d640ac6",
   "metadata": {},
   "outputs": [
    {
     "data": {
      "text/html": [
       "<div>\n",
       "<style scoped>\n",
       "    .dataframe tbody tr th:only-of-type {\n",
       "        vertical-align: middle;\n",
       "    }\n",
       "\n",
       "    .dataframe tbody tr th {\n",
       "        vertical-align: top;\n",
       "    }\n",
       "\n",
       "    .dataframe thead th {\n",
       "        text-align: right;\n",
       "    }\n",
       "</style>\n",
       "<table border=\"1\" class=\"dataframe\">\n",
       "  <thead>\n",
       "    <tr style=\"text-align: right;\">\n",
       "      <th></th>\n",
       "      <th>Skill</th>\n",
       "      <th>Frequency</th>\n",
       "    </tr>\n",
       "  </thead>\n",
       "  <tbody>\n",
       "    <tr>\n",
       "      <th>0</th>\n",
       "      <td>python</td>\n",
       "      <td>51</td>\n",
       "    </tr>\n",
       "    <tr>\n",
       "      <th>1</th>\n",
       "      <td>pytorch</td>\n",
       "      <td>16</td>\n",
       "    </tr>\n",
       "    <tr>\n",
       "      <th>2</th>\n",
       "      <td>keras</td>\n",
       "      <td>5</td>\n",
       "    </tr>\n",
       "    <tr>\n",
       "      <th>3</th>\n",
       "      <td>tensorflow</td>\n",
       "      <td>9</td>\n",
       "    </tr>\n",
       "    <tr>\n",
       "      <th>4</th>\n",
       "      <td>git</td>\n",
       "      <td>5</td>\n",
       "    </tr>\n",
       "    <tr>\n",
       "      <th>5</th>\n",
       "      <td>deep learning</td>\n",
       "      <td>12</td>\n",
       "    </tr>\n",
       "    <tr>\n",
       "      <th>6</th>\n",
       "      <td>computer vision</td>\n",
       "      <td>8</td>\n",
       "    </tr>\n",
       "    <tr>\n",
       "      <th>7</th>\n",
       "      <td>linux</td>\n",
       "      <td>4</td>\n",
       "    </tr>\n",
       "    <tr>\n",
       "      <th>8</th>\n",
       "      <td>анализ данных</td>\n",
       "      <td>7</td>\n",
       "    </tr>\n",
       "    <tr>\n",
       "      <th>9</th>\n",
       "      <td>scipy</td>\n",
       "      <td>4</td>\n",
       "    </tr>\n",
       "    <tr>\n",
       "      <th>10</th>\n",
       "      <td>нейронные сети</td>\n",
       "      <td>2</td>\n",
       "    </tr>\n",
       "    <tr>\n",
       "      <th>11</th>\n",
       "      <td>docker</td>\n",
       "      <td>3</td>\n",
       "    </tr>\n",
       "    <tr>\n",
       "      <th>12</th>\n",
       "      <td>machine learning</td>\n",
       "      <td>34</td>\n",
       "    </tr>\n",
       "    <tr>\n",
       "      <th>13</th>\n",
       "      <td>машинное обучение</td>\n",
       "      <td>4</td>\n",
       "    </tr>\n",
       "    <tr>\n",
       "      <th>15</th>\n",
       "      <td>бизнес-анализ</td>\n",
       "      <td>2</td>\n",
       "    </tr>\n",
       "    <tr>\n",
       "      <th>16</th>\n",
       "      <td>sql</td>\n",
       "      <td>25</td>\n",
       "    </tr>\n",
       "    <tr>\n",
       "      <th>17</th>\n",
       "      <td>системный анализ</td>\n",
       "      <td>2</td>\n",
       "    </tr>\n",
       "    <tr>\n",
       "      <th>18</th>\n",
       "      <td>аналитическое мышление</td>\n",
       "      <td>2</td>\n",
       "    </tr>\n",
       "    <tr>\n",
       "      <th>20</th>\n",
       "      <td>английский\\xa0— b2 — средне-продвинутый</td>\n",
       "      <td>7</td>\n",
       "    </tr>\n",
       "    <tr>\n",
       "      <th>21</th>\n",
       "      <td>power bi</td>\n",
       "      <td>2</td>\n",
       "    </tr>\n",
       "  </tbody>\n",
       "</table>\n",
       "</div>"
      ],
      "text/plain": [
       "                                      Skill  Frequency\n",
       "0                                    python         51\n",
       "1                                   pytorch         16\n",
       "2                                     keras          5\n",
       "3                                tensorflow          9\n",
       "4                                       git          5\n",
       "5                             deep learning         12\n",
       "6                           computer vision          8\n",
       "7                                     linux          4\n",
       "8                             анализ данных          7\n",
       "9                                     scipy          4\n",
       "10                           нейронные сети          2\n",
       "11                                   docker          3\n",
       "12                         machine learning         34\n",
       "13                        машинное обучение          4\n",
       "15                            бизнес-анализ          2\n",
       "16                                      sql         25\n",
       "17                         системный анализ          2\n",
       "18                   аналитическое мышление          2\n",
       "20  английский\\xa0— b2 — средне-продвинутый          7\n",
       "21                                 power bi          2"
      ]
     },
     "execution_count": 55,
     "metadata": {},
     "output_type": "execute_result"
    }
   ],
   "source": [
    "skills_df = skills_df.drop(skills_df[skills_df[\"Frequency\"] == 1].index)\n",
    "skills_df.head(20)"
   ]
  },
  {
   "cell_type": "code",
   "execution_count": 56,
   "id": "cdf55b11",
   "metadata": {},
   "outputs": [
    {
     "data": {
      "text/html": [
       "<div>\n",
       "<style scoped>\n",
       "    .dataframe tbody tr th:only-of-type {\n",
       "        vertical-align: middle;\n",
       "    }\n",
       "\n",
       "    .dataframe tbody tr th {\n",
       "        vertical-align: top;\n",
       "    }\n",
       "\n",
       "    .dataframe thead th {\n",
       "        text-align: right;\n",
       "    }\n",
       "</style>\n",
       "<table border=\"1\" class=\"dataframe\">\n",
       "  <thead>\n",
       "    <tr style=\"text-align: right;\">\n",
       "      <th></th>\n",
       "      <th>Skill</th>\n",
       "      <th>Frequency</th>\n",
       "    </tr>\n",
       "  </thead>\n",
       "  <tbody>\n",
       "    <tr>\n",
       "      <th>0</th>\n",
       "      <td>python</td>\n",
       "      <td>51</td>\n",
       "    </tr>\n",
       "    <tr>\n",
       "      <th>12</th>\n",
       "      <td>machine learning</td>\n",
       "      <td>34</td>\n",
       "    </tr>\n",
       "    <tr>\n",
       "      <th>16</th>\n",
       "      <td>sql</td>\n",
       "      <td>25</td>\n",
       "    </tr>\n",
       "    <tr>\n",
       "      <th>43</th>\n",
       "      <td>pandas</td>\n",
       "      <td>16</td>\n",
       "    </tr>\n",
       "    <tr>\n",
       "      <th>1</th>\n",
       "      <td>pytorch</td>\n",
       "      <td>16</td>\n",
       "    </tr>\n",
       "    <tr>\n",
       "      <th>22</th>\n",
       "      <td>английский язык</td>\n",
       "      <td>15</td>\n",
       "    </tr>\n",
       "    <tr>\n",
       "      <th>5</th>\n",
       "      <td>deep learning</td>\n",
       "      <td>12</td>\n",
       "    </tr>\n",
       "    <tr>\n",
       "      <th>27</th>\n",
       "      <td>data science</td>\n",
       "      <td>10</td>\n",
       "    </tr>\n",
       "    <tr>\n",
       "      <th>39</th>\n",
       "      <td>numpy</td>\n",
       "      <td>10</td>\n",
       "    </tr>\n",
       "    <tr>\n",
       "      <th>31</th>\n",
       "      <td>математическая статистика</td>\n",
       "      <td>10</td>\n",
       "    </tr>\n",
       "    <tr>\n",
       "      <th>3</th>\n",
       "      <td>tensorflow</td>\n",
       "      <td>9</td>\n",
       "    </tr>\n",
       "    <tr>\n",
       "      <th>26</th>\n",
       "      <td>data analysis</td>\n",
       "      <td>8</td>\n",
       "    </tr>\n",
       "    <tr>\n",
       "      <th>32</th>\n",
       "      <td>spark</td>\n",
       "      <td>8</td>\n",
       "    </tr>\n",
       "    <tr>\n",
       "      <th>6</th>\n",
       "      <td>computer vision</td>\n",
       "      <td>8</td>\n",
       "    </tr>\n",
       "    <tr>\n",
       "      <th>57</th>\n",
       "      <td>nlp</td>\n",
       "      <td>8</td>\n",
       "    </tr>\n",
       "    <tr>\n",
       "      <th>20</th>\n",
       "      <td>английский\\xa0— b2 — средне-продвинутый</td>\n",
       "      <td>7</td>\n",
       "    </tr>\n",
       "    <tr>\n",
       "      <th>8</th>\n",
       "      <td>анализ данных</td>\n",
       "      <td>7</td>\n",
       "    </tr>\n",
       "    <tr>\n",
       "      <th>48</th>\n",
       "      <td>английский\\xa0— c1 — продвинутый</td>\n",
       "      <td>6</td>\n",
       "    </tr>\n",
       "    <tr>\n",
       "      <th>41</th>\n",
       "      <td>data mining</td>\n",
       "      <td>5</td>\n",
       "    </tr>\n",
       "    <tr>\n",
       "      <th>71</th>\n",
       "      <td>статистический анализ</td>\n",
       "      <td>5</td>\n",
       "    </tr>\n",
       "  </tbody>\n",
       "</table>\n",
       "</div>"
      ],
      "text/plain": [
       "                                      Skill  Frequency\n",
       "0                                    python         51\n",
       "12                         machine learning         34\n",
       "16                                      sql         25\n",
       "43                                   pandas         16\n",
       "1                                   pytorch         16\n",
       "22                          английский язык         15\n",
       "5                             deep learning         12\n",
       "27                             data science         10\n",
       "39                                    numpy         10\n",
       "31                математическая статистика         10\n",
       "3                                tensorflow          9\n",
       "26                            data analysis          8\n",
       "32                                    spark          8\n",
       "6                           computer vision          8\n",
       "57                                      nlp          8\n",
       "20  английский\\xa0— b2 — средне-продвинутый          7\n",
       "8                             анализ данных          7\n",
       "48         английский\\xa0— c1 — продвинутый          6\n",
       "41                              data mining          5\n",
       "71                    статистический анализ          5"
      ]
     },
     "execution_count": 56,
     "metadata": {},
     "output_type": "execute_result"
    }
   ],
   "source": [
    "sorted_skills = skills_df.sort_values(by=\"Frequency\", ascending=False)\n",
    "sorted_skills.head(20)"
   ]
  },
  {
   "cell_type": "code",
   "execution_count": 57,
   "id": "8c49ee38",
   "metadata": {},
   "outputs": [
    {
     "data": {
      "text/plain": [
       "<AxesSubplot:xlabel='Frequency', ylabel='Skill'>"
      ]
     },
     "execution_count": 57,
     "metadata": {},
     "output_type": "execute_result"
    },
    {
     "data": {
      "image/png": "[encoded data removed]",
      "text/plain": [
       "<Figure size 432x288 with 1 Axes>"
      ]
     },
     "metadata": {
      "needs_background": "light"
     },
     "output_type": "display_data"
    }
   ],
   "source": [
    "sns.barplot(data=sorted_skills.head(20), x=\"Frequency\", y=\"Skill\")"
   ]
  },
  {
   "cell_type": "code",
   "execution_count": 58,
   "id": "7958854c",
   "metadata": {},
   "outputs": [
    {
     "name": "stdout",
     "output_type": "stream",
     "text": [
      "{0: '1–3 года', 1: '3–6 лет', 2: 'более 6 лет', 3: 'не требуется'}\n"
     ]
    }
   ],
   "source": [
    "label_encoder = LabelEncoder()\n",
    "df_train[\"Опыт_работы\"] = label_encoder.fit_transform(df_train[\"Опыт_работы\"])\n",
    "print(dict(enumerate(label_encoder.classes_)))"
   ]
  },
  {
   "cell_type": "code",
   "execution_count": 84,
   "id": "8536a9b1",
   "metadata": {},
   "outputs": [
    {
     "data": {
      "text/plain": [
       "Опыт_работы                                                        2\n",
       "Ключевые_навыки    ['ML', 'AWS', 'ANSI SQL', 'NumPy', 'SciPy', 's...\n",
       "Зарплата                                   от4 000USDдовычетаналогов\n",
       "Name: 158, dtype: object"
      ]
     },
     "execution_count": 84,
     "metadata": {},
     "output_type": "execute_result"
    }
   ],
   "source": [
    "df_train.iloc[37]"
   ]
  },
  {
   "cell_type": "code",
   "execution_count": 108,
   "id": "088ae977",
   "metadata": {},
   "outputs": [],
   "source": [
    "X_train = df_train.drop(['Зарплата'], axis=1)\n",
    "y_train = df_train[\"Зарплата\"]"
   ]
  },
  {
   "cell_type": "code",
   "execution_count": 109,
   "id": "a2fbf4a8",
   "metadata": {},
   "outputs": [
    {
     "data": {
      "text/html": [
       "<div>\n",
       "<style scoped>\n",
       "    .dataframe tbody tr th:only-of-type {\n",
       "        vertical-align: middle;\n",
       "    }\n",
       "\n",
       "    .dataframe tbody tr th {\n",
       "        vertical-align: top;\n",
       "    }\n",
       "\n",
       "    .dataframe thead th {\n",
       "        text-align: right;\n",
       "    }\n",
       "</style>\n",
       "<table border=\"1\" class=\"dataframe\">\n",
       "  <thead>\n",
       "    <tr style=\"text-align: right;\">\n",
       "      <th></th>\n",
       "      <th>0</th>\n",
       "    </tr>\n",
       "  </thead>\n",
       "  <tbody>\n",
       "    <tr>\n",
       "      <th>0</th>\n",
       "      <td>200 000руб</td>\n",
       "    </tr>\n",
       "    <tr>\n",
       "      <th>4</th>\n",
       "      <td>190 000до250 000руб</td>\n",
       "    </tr>\n",
       "    <tr>\n",
       "      <th>5</th>\n",
       "      <td>3 000до5 000USD</td>\n",
       "    </tr>\n",
       "    <tr>\n",
       "      <th>6</th>\n",
       "      <td>50 000до80 000руб</td>\n",
       "    </tr>\n",
       "    <tr>\n",
       "      <th>7</th>\n",
       "      <td>100 000руб</td>\n",
       "    </tr>\n",
       "  </tbody>\n",
       "</table>\n",
       "</div>"
      ],
      "text/plain": [
       "                     0\n",
       "0           200 000руб\n",
       "4  190 000до250 000руб\n",
       "5      3 000до5 000USD\n",
       "6    50 000до80 000руб\n",
       "7           100 000руб"
      ]
     },
     "execution_count": 109,
     "metadata": {},
     "output_type": "execute_result"
    }
   ],
   "source": [
    "y_train = y_train.str.extract(r'(\\d+[.\\d]*\\s\\d[.\\d]*.*[рUE][уSU][бDR])')\n",
    "y_train.head()\n"
   ]
  },
  {
   "cell_type": "code",
   "execution_count": 110,
   "id": "2cbf6505",
   "metadata": {
    "scrolled": false
   },
   "outputs": [],
   "source": [
    "def get_currency(s):\n",
    "    try:\n",
    "        return s[-3:]\n",
    "    except:\n",
    "        pass\n",
    "    \n",
    "y_train = pd.DataFrame(data=y_train.values, columns=['Salary'])\n",
    "y_train[\"Currency\"] = y_train[\"Salary\"].apply(get_currency)"
   ]
  },
  {
   "cell_type": "code",
   "execution_count": 111,
   "id": "84d4cdcd",
   "metadata": {},
   "outputs": [],
   "source": [
    "import re\n",
    "def get_salary(s):\n",
    "    s = s[:-3]\n",
    "    if \"до\" in s:\n",
    "        s = s.split(\"до\")\n",
    "        s[0] =  \"\".join(re.findall(r'\\d+', s[0]))\n",
    "        s[1] =  \"\".join(re.findall(r'\\d+', s[0])) \n",
    "        s = (int(s[0]) + int(s[1])) // 2\n",
    "    else: \n",
    "        s = \"\".join(re.findall(r'\\d+', s))\n",
    "        s = int(s)\n",
    "    \n",
    "    return s\n",
    "y_train[\"Salary\"] = y_train[\"Salary\"].apply(get_salary)"
   ]
  },
  {
   "cell_type": "code",
   "execution_count": 112,
   "id": "72be6924",
   "metadata": {},
   "outputs": [
    {
     "data": {
      "text/html": [
       "<div>\n",
       "<style scoped>\n",
       "    .dataframe tbody tr th:only-of-type {\n",
       "        vertical-align: middle;\n",
       "    }\n",
       "\n",
       "    .dataframe tbody tr th {\n",
       "        vertical-align: top;\n",
       "    }\n",
       "\n",
       "    .dataframe thead th {\n",
       "        text-align: right;\n",
       "    }\n",
       "</style>\n",
       "<table border=\"1\" class=\"dataframe\">\n",
       "  <thead>\n",
       "    <tr style=\"text-align: right;\">\n",
       "      <th></th>\n",
       "      <th>Salary</th>\n",
       "      <th>Currency</th>\n",
       "    </tr>\n",
       "  </thead>\n",
       "  <tbody>\n",
       "    <tr>\n",
       "      <th>0</th>\n",
       "      <td>200000</td>\n",
       "      <td>руб</td>\n",
       "    </tr>\n",
       "    <tr>\n",
       "      <th>1</th>\n",
       "      <td>190000</td>\n",
       "      <td>руб</td>\n",
       "    </tr>\n",
       "    <tr>\n",
       "      <th>2</th>\n",
       "      <td>3000</td>\n",
       "      <td>USD</td>\n",
       "    </tr>\n",
       "    <tr>\n",
       "      <th>3</th>\n",
       "      <td>50000</td>\n",
       "      <td>руб</td>\n",
       "    </tr>\n",
       "    <tr>\n",
       "      <th>4</th>\n",
       "      <td>100000</td>\n",
       "      <td>руб</td>\n",
       "    </tr>\n",
       "  </tbody>\n",
       "</table>\n",
       "</div>"
      ],
      "text/plain": [
       "   Salary Currency\n",
       "0  200000      руб\n",
       "1  190000      руб\n",
       "2    3000      USD\n",
       "3   50000      руб\n",
       "4  100000      руб"
      ]
     },
     "execution_count": 112,
     "metadata": {},
     "output_type": "execute_result"
    }
   ],
   "source": [
    "y_train.head()"
   ]
  },
  {
   "cell_type": "code",
   "execution_count": 113,
   "id": "c71fe8e7",
   "metadata": {},
   "outputs": [
    {
     "name": "stdout",
     "output_type": "stream",
     "text": [
      "<class 'str'>\n"
     ]
    }
   ],
   "source": [
    "print(type(y_train.Currency.unique()[2])) "
   ]
  },
  {
   "cell_type": "code",
   "execution_count": 114,
   "id": "6a058671",
   "metadata": {},
   "outputs": [
    {
     "name": "stdout",
     "output_type": "stream",
     "text": [
      "Currency\n",
      "EUR     1\n",
      "USD     6\n",
      "руб    55\n",
      "Name: Salary, dtype: int64\n",
      "(62, 2)\n"
     ]
    }
   ],
   "source": [
    "y_train_unique_currency = y_train.groupby('Currency')[\"Salary\"].count()\n",
    "print(y_train_unique_currency)\n",
    "print(y_train.shape)"
   ]
  },
  {
   "cell_type": "code",
   "execution_count": null,
   "id": "96775fc3",
   "metadata": {},
   "outputs": [],
   "source": []
  }
 ],
 "metadata": {
  "kernelspec": {
   "display_name": "Python 3",
   "language": "python",
   "name": "python3"
  },
  "language_info": {
   "codemirror_mode": {
    "name": "ipython",
    "version": 3
   },
   "file_extension": ".py",
   "mimetype": "text/x-python",
   "name": "python",
   "nbconvert_exporter": "python",
   "pygments_lexer": "ipython3",
   "version": "3.8.8"
  }
 },
 "nbformat": 4,
 "nbformat_minor": 5
}
