{
 "cells": [
  {
   "cell_type": "code",
   "execution_count": 1,
   "id": "8117a615",
   "metadata": {},
   "outputs": [],
   "source": [
    "import pandas as pd\n",
    "from sklearn.preprocessing import LabelEncoder\n",
    "import numpy as np"
   ]
  },
  {
   "cell_type": "code",
   "execution_count": 2,
   "id": "91a84602",
   "metadata": {},
   "outputs": [],
   "source": [
    "import seaborn as sns\n",
    "%matplotlib inline"
   ]
  },
  {
   "cell_type": "code",
   "execution_count": 3,
   "id": "0fb4033d",
   "metadata": {
    "scrolled": true
   },
   "outputs": [
    {
     "data": {
      "text/html": [
       "<div>\n",
       "<style scoped>\n",
       "    .dataframe tbody tr th:only-of-type {\n",
       "        vertical-align: middle;\n",
       "    }\n",
       "\n",
       "    .dataframe tbody tr th {\n",
       "        vertical-align: top;\n",
       "    }\n",
       "\n",
       "    .dataframe thead th {\n",
       "        text-align: right;\n",
       "    }\n",
       "</style>\n",
       "<table border=\"1\" class=\"dataframe\">\n",
       "  <thead>\n",
       "    <tr style=\"text-align: right;\">\n",
       "      <th></th>\n",
       "      <th>Наименование_вакансии</th>\n",
       "      <th>Ссылка_на_вакансию</th>\n",
       "      <th>Опыт_работы</th>\n",
       "      <th>Ключевые_навыки</th>\n",
       "      <th>Зарплата</th>\n",
       "    </tr>\n",
       "  </thead>\n",
       "  <tbody>\n",
       "    <tr>\n",
       "      <th>0</th>\n",
       "      <td>Data Scientist ООО ХАЙТЕКИНЖИНИРИНГ</td>\n",
       "      <td>https://hh.ru/vacancy/48101680?query=data%20sc...</td>\n",
       "      <td>1–3 года</td>\n",
       "      <td>['Python', 'PyTorch', 'Keras', 'Tensorflow', '...</td>\n",
       "      <td>от200 000руб.довычетаналогов</td>\n",
       "    </tr>\n",
       "    <tr>\n",
       "      <th>1</th>\n",
       "      <td>Data Scientist (antifraud) Авито</td>\n",
       "      <td>https://hh.ru/vacancy/48120590?query=data%20sc...</td>\n",
       "      <td>3–6 лет</td>\n",
       "      <td>['Python', 'Data Science', 'Машинное обучение']</td>\n",
       "      <td>з/пнеуказана</td>\n",
       "    </tr>\n",
       "    <tr>\n",
       "      <th>2</th>\n",
       "      <td>Data Scientist (команда Поиска) HeadHunter::An...</td>\n",
       "      <td>https://hh.ru/vacancy/46048820?query=data%20sc...</td>\n",
       "      <td>3–6 лет</td>\n",
       "      <td>['Python', 'PyTorch', 'SQL', 'Machine Learning...</td>\n",
       "      <td>з/пнеуказана</td>\n",
       "    </tr>\n",
       "    <tr>\n",
       "      <th>3</th>\n",
       "      <td>Senior Data Scientist (Computer Vision) - Synt...</td>\n",
       "      <td>https://hh.ru/vacancy/48212689?query=data%20sc...</td>\n",
       "      <td>3–6 лет</td>\n",
       "      <td>['Python', 'Linux', 'Английский язык', 'Comput...</td>\n",
       "      <td>з/пнеуказана</td>\n",
       "    </tr>\n",
       "    <tr>\n",
       "      <th>4</th>\n",
       "      <td>Системный аналитик\\ data scientist HFLabs</td>\n",
       "      <td>https://hh.ru/vacancy/47688264?query=data%20sc...</td>\n",
       "      <td>1–3 года</td>\n",
       "      <td>['Бизнес-анализ', 'SQL', 'Системный анализ', '...</td>\n",
       "      <td>от190 000до250 000руб.наруки</td>\n",
       "    </tr>\n",
       "  </tbody>\n",
       "</table>\n",
       "</div>"
      ],
      "text/plain": [
       "                               Наименование_вакансии  \\\n",
       "0                Data Scientist ООО ХАЙТЕКИНЖИНИРИНГ   \n",
       "1                   Data Scientist (antifraud) Авито   \n",
       "2  Data Scientist (команда Поиска) HeadHunter::An...   \n",
       "3  Senior Data Scientist (Computer Vision) - Synt...   \n",
       "4          Системный аналитик\\ data scientist HFLabs   \n",
       "\n",
       "                                  Ссылка_на_вакансию Опыт_работы  \\\n",
       "0  https://hh.ru/vacancy/48101680?query=data%20sc...    1–3 года   \n",
       "1  https://hh.ru/vacancy/48120590?query=data%20sc...     3–6 лет   \n",
       "2  https://hh.ru/vacancy/46048820?query=data%20sc...     3–6 лет   \n",
       "3  https://hh.ru/vacancy/48212689?query=data%20sc...     3–6 лет   \n",
       "4  https://hh.ru/vacancy/47688264?query=data%20sc...    1–3 года   \n",
       "\n",
       "                                     Ключевые_навыки  \\\n",
       "0  ['Python', 'PyTorch', 'Keras', 'Tensorflow', '...   \n",
       "1    ['Python', 'Data Science', 'Машинное обучение']   \n",
       "2  ['Python', 'PyTorch', 'SQL', 'Machine Learning...   \n",
       "3  ['Python', 'Linux', 'Английский язык', 'Comput...   \n",
       "4  ['Бизнес-анализ', 'SQL', 'Системный анализ', '...   \n",
       "\n",
       "                       Зарплата  \n",
       "0  от200 000руб.довычетаналогов  \n",
       "1                  з/пнеуказана  \n",
       "2                  з/пнеуказана  \n",
       "3                  з/пнеуказана  \n",
       "4  от190 000до250 000руб.наруки  "
      ]
     },
     "execution_count": 3,
     "metadata": {},
     "output_type": "execute_result"
    }
   ],
   "source": [
    "df = pd.read_csv(\"vacancies.csv\", delimiter=';')\n",
    "df.head()"
   ]
  },
  {
   "cell_type": "code",
   "execution_count": 4,
   "id": "55db4359",
   "metadata": {},
   "outputs": [],
   "source": [
    "df = df.drop([\"Наименование_вакансии\", \"Ссылка_на_вакансию\"], axis=1)"
   ]
  },
  {
   "cell_type": "code",
   "execution_count": 5,
   "id": "24021453",
   "metadata": {},
   "outputs": [
    {
     "data": {
      "text/plain": [
       "array(['1–3 года', '3–6 лет', 'не требуется', 'более 6 лет',\n",
       "       'Опыт_работы'], dtype=object)"
      ]
     },
     "execution_count": 5,
     "metadata": {},
     "output_type": "execute_result"
    }
   ],
   "source": [
    "df[\"Опыт_работы\"].unique()"
   ]
  },
  {
   "cell_type": "code",
   "execution_count": 6,
   "id": "5cd6c0a9",
   "metadata": {},
   "outputs": [],
   "source": [
    "df = df.drop(df[df.Опыт_работы == \"Опыт_работы\"].index)"
   ]
  },
  {
   "cell_type": "code",
   "execution_count": 7,
   "id": "fb71e9e6",
   "metadata": {},
   "outputs": [
    {
     "data": {
      "text/plain": [
       "Зарплата    284\n",
       "dtype: int64"
      ]
     },
     "execution_count": 7,
     "metadata": {},
     "output_type": "execute_result"
    }
   ],
   "source": [
    "pd.DataFrame(df.Зарплата == 'з/пнеуказана').sum()"
   ]
  },
  {
   "cell_type": "code",
   "execution_count": 8,
   "id": "9b7de013",
   "metadata": {},
   "outputs": [
    {
     "data": {
      "text/plain": [
       "Зарплата    62\n",
       "dtype: int64"
      ]
     },
     "execution_count": 8,
     "metadata": {},
     "output_type": "execute_result"
    }
   ],
   "source": [
    "pd.DataFrame(df.Зарплата != 'з/пнеуказана').sum()"
   ]
  },
  {
   "cell_type": "code",
   "execution_count": 9,
   "id": "d0f4876d",
   "metadata": {},
   "outputs": [
    {
     "data": {
      "text/plain": [
       "Зарплата    0\n",
       "dtype: int64"
      ]
     },
     "execution_count": 9,
     "metadata": {},
     "output_type": "execute_result"
    }
   ],
   "source": [
    "pd.DataFrame(df.Зарплата == None).sum()"
   ]
  },
  {
   "cell_type": "code",
   "execution_count": 10,
   "id": "309c12d8",
   "metadata": {},
   "outputs": [],
   "source": [
    "df_train = df.drop(df[(df.Зарплата == \"з/пнеуказана\") | (df.Зарплата == np.NaN)].index)"
   ]
  },
  {
   "cell_type": "code",
   "execution_count": 11,
   "id": "dcb2ecef",
   "metadata": {},
   "outputs": [
    {
     "data": {
      "text/plain": [
       "(62, 3)"
      ]
     },
     "execution_count": 11,
     "metadata": {},
     "output_type": "execute_result"
    }
   ],
   "source": [
    "df_train.shape"
   ]
  },
  {
   "cell_type": "code",
   "execution_count": 12,
   "id": "503a071b",
   "metadata": {},
   "outputs": [
    {
     "data": {
      "text/plain": [
       "array([False, False, False, False, False, False, False, False, False,\n",
       "       False, False, False, False, False, False, False, False, False,\n",
       "       False, False, False, False, False, False, False, False, False,\n",
       "       False, False, False, False, False, False, False, False, False,\n",
       "       False, False, False, False, False, False, False, False, False,\n",
       "       False, False, False, False, False, False, False, False, False,\n",
       "       False, False, False, False, False, False, False, False])"
      ]
     },
     "execution_count": 12,
     "metadata": {},
     "output_type": "execute_result"
    }
   ],
   "source": [
    "pd.isna(df_train['Зарплата'].index)"
   ]
  },
  {
   "cell_type": "code",
   "execution_count": 13,
   "id": "2e992aee",
   "metadata": {},
   "outputs": [],
   "source": [
    "from pprint import pprint\n",
    "skills_dict = {}\n",
    "for line in df_train[\"Ключевые_навыки\"]:    \n",
    "    for skill in line.split(\"', '\"):\n",
    "        skill = skill.lower()\n",
    "        if skill[:2] == \"['\":\n",
    "            skill = skill[2:]\n",
    "        elif skill[-2:] == \"']\":\n",
    "            skill = skill[:-2]\n",
    "        if skill == 'ml':\n",
    "            skill = 'machine learning'\n",
    "        if ' ' in skill:\n",
    "            skill.replace(' ', '')\n",
    "        if skill in skills_dict:\n",
    "            skills_dict[skill] += 1\n",
    "        elif skill != \"[]\":\n",
    "            skills_dict[skill] = 1\n",
    "\n",
    "skills_df = pd.DataFrame(list(skills_dict.items()), columns=[\"Skill\", \"Frequency\"])"
   ]
  },
  {
   "cell_type": "code",
   "execution_count": 14,
   "id": "7d640ac6",
   "metadata": {},
   "outputs": [],
   "source": [
    "skills_df = skills_df.drop(skills_df[skills_df[\"Frequency\"] == 1].index)"
   ]
  },
  {
   "cell_type": "code",
   "execution_count": 15,
   "id": "cdf55b11",
   "metadata": {},
   "outputs": [
    {
     "data": {
      "text/html": [
       "<div>\n",
       "<style scoped>\n",
       "    .dataframe tbody tr th:only-of-type {\n",
       "        vertical-align: middle;\n",
       "    }\n",
       "\n",
       "    .dataframe tbody tr th {\n",
       "        vertical-align: top;\n",
       "    }\n",
       "\n",
       "    .dataframe thead th {\n",
       "        text-align: right;\n",
       "    }\n",
       "</style>\n",
       "<table border=\"1\" class=\"dataframe\">\n",
       "  <thead>\n",
       "    <tr style=\"text-align: right;\">\n",
       "      <th></th>\n",
       "      <th>Skill</th>\n",
       "      <th>Frequency</th>\n",
       "    </tr>\n",
       "  </thead>\n",
       "  <tbody>\n",
       "    <tr>\n",
       "      <th>0</th>\n",
       "      <td>python</td>\n",
       "      <td>51</td>\n",
       "    </tr>\n",
       "    <tr>\n",
       "      <th>12</th>\n",
       "      <td>machine learning</td>\n",
       "      <td>34</td>\n",
       "    </tr>\n",
       "    <tr>\n",
       "      <th>16</th>\n",
       "      <td>sql</td>\n",
       "      <td>25</td>\n",
       "    </tr>\n",
       "    <tr>\n",
       "      <th>43</th>\n",
       "      <td>pandas</td>\n",
       "      <td>16</td>\n",
       "    </tr>\n",
       "    <tr>\n",
       "      <th>1</th>\n",
       "      <td>pytorch</td>\n",
       "      <td>16</td>\n",
       "    </tr>\n",
       "    <tr>\n",
       "      <th>22</th>\n",
       "      <td>английский язык</td>\n",
       "      <td>15</td>\n",
       "    </tr>\n",
       "    <tr>\n",
       "      <th>5</th>\n",
       "      <td>deep learning</td>\n",
       "      <td>12</td>\n",
       "    </tr>\n",
       "    <tr>\n",
       "      <th>27</th>\n",
       "      <td>data science</td>\n",
       "      <td>10</td>\n",
       "    </tr>\n",
       "    <tr>\n",
       "      <th>39</th>\n",
       "      <td>numpy</td>\n",
       "      <td>10</td>\n",
       "    </tr>\n",
       "    <tr>\n",
       "      <th>31</th>\n",
       "      <td>математическая статистика</td>\n",
       "      <td>10</td>\n",
       "    </tr>\n",
       "    <tr>\n",
       "      <th>3</th>\n",
       "      <td>tensorflow</td>\n",
       "      <td>9</td>\n",
       "    </tr>\n",
       "    <tr>\n",
       "      <th>26</th>\n",
       "      <td>data analysis</td>\n",
       "      <td>8</td>\n",
       "    </tr>\n",
       "    <tr>\n",
       "      <th>56</th>\n",
       "      <td>nlp</td>\n",
       "      <td>8</td>\n",
       "    </tr>\n",
       "    <tr>\n",
       "      <th>32</th>\n",
       "      <td>spark</td>\n",
       "      <td>8</td>\n",
       "    </tr>\n",
       "    <tr>\n",
       "      <th>6</th>\n",
       "      <td>computer vision</td>\n",
       "      <td>8</td>\n",
       "    </tr>\n",
       "    <tr>\n",
       "      <th>8</th>\n",
       "      <td>анализ данных</td>\n",
       "      <td>7</td>\n",
       "    </tr>\n",
       "    <tr>\n",
       "      <th>20</th>\n",
       "      <td>английский\\xa0— b2 — средне-продвинутый</td>\n",
       "      <td>7</td>\n",
       "    </tr>\n",
       "    <tr>\n",
       "      <th>47</th>\n",
       "      <td>английский\\xa0— c1 — продвинутый</td>\n",
       "      <td>6</td>\n",
       "    </tr>\n",
       "    <tr>\n",
       "      <th>4</th>\n",
       "      <td>git</td>\n",
       "      <td>5</td>\n",
       "    </tr>\n",
       "    <tr>\n",
       "      <th>70</th>\n",
       "      <td>статистический анализ</td>\n",
       "      <td>5</td>\n",
       "    </tr>\n",
       "  </tbody>\n",
       "</table>\n",
       "</div>"
      ],
      "text/plain": [
       "                                      Skill  Frequency\n",
       "0                                    python         51\n",
       "12                         machine learning         34\n",
       "16                                      sql         25\n",
       "43                                   pandas         16\n",
       "1                                   pytorch         16\n",
       "22                          английский язык         15\n",
       "5                             deep learning         12\n",
       "27                             data science         10\n",
       "39                                    numpy         10\n",
       "31                математическая статистика         10\n",
       "3                                tensorflow          9\n",
       "26                            data analysis          8\n",
       "56                                      nlp          8\n",
       "32                                    spark          8\n",
       "6                           computer vision          8\n",
       "8                             анализ данных          7\n",
       "20  английский\\xa0— b2 — средне-продвинутый          7\n",
       "47         английский\\xa0— c1 — продвинутый          6\n",
       "4                                       git          5\n",
       "70                    статистический анализ          5"
      ]
     },
     "execution_count": 15,
     "metadata": {},
     "output_type": "execute_result"
    }
   ],
   "source": [
    "sorted_skills = skills_df.sort_values(by=\"Frequency\", ascending=False)\n",
    "sorted_skills.head(20)"
   ]
  },
  {
   "cell_type": "code",
   "execution_count": 16,
   "id": "37c13468",
   "metadata": {},
   "outputs": [
    {
     "data": {
      "text/plain": [
       "<AxesSubplot:xlabel='Frequency', ylabel='Skill'>"
      ]
     },
     "execution_count": 16,
     "metadata": {},
     "output_type": "execute_result"
    },
    {
     "data": {
      "image/png": "[encoded data removed]",
      "text/plain": [
       "<Figure size 432x288 with 1 Axes>"
      ]
     },
     "metadata": {
      "needs_background": "light"
     },
     "output_type": "display_data"
    }
   ],
   "source": [
    "sns.barplot(data=sorted_skills.head(20), x=\"Frequency\", y=\"Skill\")"
   ]
  },
  {
   "cell_type": "code",
   "execution_count": 17,
   "id": "7958854c",
   "metadata": {},
   "outputs": [
    {
     "name": "stdout",
     "output_type": "stream",
     "text": [
      "{0: '1–3 года', 1: '3–6 лет', 2: 'более 6 лет', 3: 'не требуется'}\n"
     ]
    }
   ],
   "source": [
    "label_encoder = LabelEncoder()\n",
    "df_train[\"Опыт_работы\"] = label_encoder.fit_transform(df_train[\"Опыт_работы\"])\n",
    "print(dict(enumerate(label_encoder.classes_)))\n"
   ]
  },
  {
   "cell_type": "code",
   "execution_count": 18,
   "id": "e248f419",
   "metadata": {
    "scrolled": true
   },
   "outputs": [
    {
     "data": {
      "text/plain": [
       "(62, 3)"
      ]
     },
     "execution_count": 18,
     "metadata": {},
     "output_type": "execute_result"
    }
   ],
   "source": [
    "df_train.shape"
   ]
  },
  {
   "cell_type": "code",
   "execution_count": 19,
   "id": "088ae977",
   "metadata": {},
   "outputs": [],
   "source": [
    "X = df_train.drop(['Зарплата'], axis=1)\n",
    "y = df_train[\"Зарплата\"]"
   ]
  },
  {
   "cell_type": "code",
   "execution_count": 20,
   "id": "a2fbf4a8",
   "metadata": {
    "scrolled": true
   },
   "outputs": [
    {
     "name": "stdout",
     "output_type": "stream",
     "text": [
      "                     0\n",
      "0           200 000руб\n",
      "4  190 000до250 000руб\n",
      "5      3 000до5 000USD\n",
      "6    50 000до80 000руб\n",
      "7           100 000руб\n"
     ]
    }
   ],
   "source": [
    "y = y.str.extract(r'(\\d+[.\\d]*\\s\\d[.\\d]*.*[рUE][уSU][бDR])')\n",
    "print(y.head())\n",
    "\n"
   ]
  },
  {
   "cell_type": "code",
   "execution_count": 21,
   "id": "2cbf6505",
   "metadata": {
    "scrolled": false
   },
   "outputs": [
    {
     "data": {
      "text/plain": [
       "(62, 2)"
      ]
     },
     "execution_count": 21,
     "metadata": {},
     "output_type": "execute_result"
    }
   ],
   "source": [
    "def get_currency(s):\n",
    "    try:\n",
    "        return s[-3:]\n",
    "    except:\n",
    "        pass\n",
    "    \n",
    "y = pd.DataFrame(data=y.values, columns=['Salary'])\n",
    "y[\"Currency\"] = y[\"Salary\"].apply(get_currency)\n",
    "y.shape"
   ]
  },
  {
   "cell_type": "code",
   "execution_count": 22,
   "id": "84fdc131",
   "metadata": {},
   "outputs": [
    {
     "data": {
      "text/plain": [
       "(62, 2)"
      ]
     },
     "execution_count": 22,
     "metadata": {},
     "output_type": "execute_result"
    }
   ],
   "source": [
    "import re\n",
    "def get_salary(s):\n",
    "    s = s[:-3]\n",
    "    if \"до\" in s:\n",
    "        s = s.split(\"до\")\n",
    "        s[0] =  \"\".join(re.findall(r'\\d+', s[0]))\n",
    "        s[1] =  \"\".join(re.findall(r'\\d+', s[0])) \n",
    "        s = (int(s[0]) + int(s[1])) // 2\n",
    "    else: \n",
    "        s = \"\".join(re.findall(r'\\d+', s))\n",
    "        s = int(s)\n",
    "    \n",
    "    return s\n",
    "\n",
    "\n",
    "y[\"Salary\"] = y[\"Salary\"].apply(get_salary)\n",
    "y.shape"
   ]
  },
  {
   "cell_type": "code",
   "execution_count": 23,
   "id": "556c2f27",
   "metadata": {
    "scrolled": true
   },
   "outputs": [
    {
     "data": {
      "text/html": [
       "<div>\n",
       "<style scoped>\n",
       "    .dataframe tbody tr th:only-of-type {\n",
       "        vertical-align: middle;\n",
       "    }\n",
       "\n",
       "    .dataframe tbody tr th {\n",
       "        vertical-align: top;\n",
       "    }\n",
       "\n",
       "    .dataframe thead th {\n",
       "        text-align: right;\n",
       "    }\n",
       "</style>\n",
       "<table border=\"1\" class=\"dataframe\">\n",
       "  <thead>\n",
       "    <tr style=\"text-align: right;\">\n",
       "      <th></th>\n",
       "      <th>Salary</th>\n",
       "      <th>Currency</th>\n",
       "    </tr>\n",
       "  </thead>\n",
       "  <tbody>\n",
       "    <tr>\n",
       "      <th>0</th>\n",
       "      <td>200000</td>\n",
       "      <td>руб</td>\n",
       "    </tr>\n",
       "    <tr>\n",
       "      <th>1</th>\n",
       "      <td>190000</td>\n",
       "      <td>руб</td>\n",
       "    </tr>\n",
       "    <tr>\n",
       "      <th>2</th>\n",
       "      <td>3000</td>\n",
       "      <td>USD</td>\n",
       "    </tr>\n",
       "    <tr>\n",
       "      <th>3</th>\n",
       "      <td>50000</td>\n",
       "      <td>руб</td>\n",
       "    </tr>\n",
       "    <tr>\n",
       "      <th>4</th>\n",
       "      <td>100000</td>\n",
       "      <td>руб</td>\n",
       "    </tr>\n",
       "  </tbody>\n",
       "</table>\n",
       "</div>"
      ],
      "text/plain": [
       "   Salary Currency\n",
       "0  200000      руб\n",
       "1  190000      руб\n",
       "2    3000      USD\n",
       "3   50000      руб\n",
       "4  100000      руб"
      ]
     },
     "execution_count": 23,
     "metadata": {},
     "output_type": "execute_result"
    }
   ],
   "source": [
    "y.head()"
   ]
  },
  {
   "cell_type": "code",
   "execution_count": 24,
   "id": "980f2ecb",
   "metadata": {
    "scrolled": true
   },
   "outputs": [
    {
     "name": "stdout",
     "output_type": "stream",
     "text": [
      "Currency\n",
      "EUR     1\n",
      "USD     6\n",
      "руб    55\n",
      "Name: Salary, dtype: int64\n",
      "(62, 2)\n"
     ]
    }
   ],
   "source": [
    "y_unique_currency = y.groupby('Currency')[\"Salary\"].count()\n",
    "print(y_unique_currency)\n",
    "print(y.shape)"
   ]
  },
  {
   "cell_type": "code",
   "execution_count": 25,
   "id": "dd34f98b",
   "metadata": {},
   "outputs": [],
   "source": [
    "X = X.reset_index(drop=True)"
   ]
  },
  {
   "cell_type": "code",
   "execution_count": 26,
   "id": "257f36af",
   "metadata": {},
   "outputs": [],
   "source": [
    "X[np.array(sorted_skills.head(20)['Skill'])] = np.nan"
   ]
  },
  {
   "cell_type": "code",
   "execution_count": 27,
   "id": "4585ede4",
   "metadata": {},
   "outputs": [],
   "source": [
    "for skill in np.array(sorted_skills.head(20)['Skill']):\n",
    "    X[skill] = X.apply(lambda row: 1 if skill in row['Ключевые_навыки'].lower() else 0, axis=1)"
   ]
  },
  {
   "cell_type": "code",
   "execution_count": 28,
   "id": "dbf6fcb2",
   "metadata": {},
   "outputs": [
    {
     "data": {
      "text/plain": [
       "(62, 21)"
      ]
     },
     "execution_count": 28,
     "metadata": {},
     "output_type": "execute_result"
    }
   ],
   "source": [
    "X[\"python\"].value_counts()\n",
    "X.drop(\"Ключевые_навыки\", inplace=True, axis=1)\n",
    "X.shape"
   ]
  },
  {
   "cell_type": "code",
   "execution_count": 29,
   "id": "164485e0",
   "metadata": {},
   "outputs": [
    {
     "data": {
      "text/html": [
       "<div>\n",
       "<style scoped>\n",
       "    .dataframe tbody tr th:only-of-type {\n",
       "        vertical-align: middle;\n",
       "    }\n",
       "\n",
       "    .dataframe tbody tr th {\n",
       "        vertical-align: top;\n",
       "    }\n",
       "\n",
       "    .dataframe thead th {\n",
       "        text-align: right;\n",
       "    }\n",
       "</style>\n",
       "<table border=\"1\" class=\"dataframe\">\n",
       "  <thead>\n",
       "    <tr style=\"text-align: right;\">\n",
       "      <th></th>\n",
       "      <th>Опыт_работы</th>\n",
       "      <th>python</th>\n",
       "      <th>machine learning</th>\n",
       "      <th>sql</th>\n",
       "      <th>pandas</th>\n",
       "      <th>pytorch</th>\n",
       "      <th>английский язык</th>\n",
       "      <th>deep learning</th>\n",
       "      <th>data science</th>\n",
       "      <th>numpy</th>\n",
       "      <th>...</th>\n",
       "      <th>tensorflow</th>\n",
       "      <th>data analysis</th>\n",
       "      <th>nlp</th>\n",
       "      <th>spark</th>\n",
       "      <th>computer vision</th>\n",
       "      <th>анализ данных</th>\n",
       "      <th>английский\\xa0— b2 — средне-продвинутый</th>\n",
       "      <th>английский\\xa0— c1 — продвинутый</th>\n",
       "      <th>git</th>\n",
       "      <th>статистический анализ</th>\n",
       "    </tr>\n",
       "  </thead>\n",
       "  <tbody>\n",
       "    <tr>\n",
       "      <th>0</th>\n",
       "      <td>0</td>\n",
       "      <td>1</td>\n",
       "      <td>1</td>\n",
       "      <td>0</td>\n",
       "      <td>0</td>\n",
       "      <td>1</td>\n",
       "      <td>0</td>\n",
       "      <td>1</td>\n",
       "      <td>0</td>\n",
       "      <td>0</td>\n",
       "      <td>...</td>\n",
       "      <td>1</td>\n",
       "      <td>0</td>\n",
       "      <td>0</td>\n",
       "      <td>0</td>\n",
       "      <td>1</td>\n",
       "      <td>1</td>\n",
       "      <td>0</td>\n",
       "      <td>0</td>\n",
       "      <td>1</td>\n",
       "      <td>0</td>\n",
       "    </tr>\n",
       "    <tr>\n",
       "      <th>1</th>\n",
       "      <td>0</td>\n",
       "      <td>0</td>\n",
       "      <td>0</td>\n",
       "      <td>1</td>\n",
       "      <td>0</td>\n",
       "      <td>0</td>\n",
       "      <td>0</td>\n",
       "      <td>0</td>\n",
       "      <td>0</td>\n",
       "      <td>0</td>\n",
       "      <td>...</td>\n",
       "      <td>0</td>\n",
       "      <td>0</td>\n",
       "      <td>0</td>\n",
       "      <td>0</td>\n",
       "      <td>0</td>\n",
       "      <td>0</td>\n",
       "      <td>0</td>\n",
       "      <td>0</td>\n",
       "      <td>0</td>\n",
       "      <td>0</td>\n",
       "    </tr>\n",
       "    <tr>\n",
       "      <th>2</th>\n",
       "      <td>1</td>\n",
       "      <td>1</td>\n",
       "      <td>0</td>\n",
       "      <td>1</td>\n",
       "      <td>0</td>\n",
       "      <td>0</td>\n",
       "      <td>1</td>\n",
       "      <td>0</td>\n",
       "      <td>0</td>\n",
       "      <td>0</td>\n",
       "      <td>...</td>\n",
       "      <td>0</td>\n",
       "      <td>0</td>\n",
       "      <td>0</td>\n",
       "      <td>0</td>\n",
       "      <td>0</td>\n",
       "      <td>0</td>\n",
       "      <td>1</td>\n",
       "      <td>0</td>\n",
       "      <td>0</td>\n",
       "      <td>0</td>\n",
       "    </tr>\n",
       "    <tr>\n",
       "      <th>3</th>\n",
       "      <td>0</td>\n",
       "      <td>1</td>\n",
       "      <td>1</td>\n",
       "      <td>0</td>\n",
       "      <td>0</td>\n",
       "      <td>0</td>\n",
       "      <td>0</td>\n",
       "      <td>0</td>\n",
       "      <td>1</td>\n",
       "      <td>0</td>\n",
       "      <td>...</td>\n",
       "      <td>0</td>\n",
       "      <td>1</td>\n",
       "      <td>0</td>\n",
       "      <td>0</td>\n",
       "      <td>0</td>\n",
       "      <td>0</td>\n",
       "      <td>0</td>\n",
       "      <td>0</td>\n",
       "      <td>1</td>\n",
       "      <td>0</td>\n",
       "    </tr>\n",
       "    <tr>\n",
       "      <th>4</th>\n",
       "      <td>0</td>\n",
       "      <td>1</td>\n",
       "      <td>0</td>\n",
       "      <td>1</td>\n",
       "      <td>0</td>\n",
       "      <td>0</td>\n",
       "      <td>0</td>\n",
       "      <td>0</td>\n",
       "      <td>0</td>\n",
       "      <td>0</td>\n",
       "      <td>...</td>\n",
       "      <td>0</td>\n",
       "      <td>0</td>\n",
       "      <td>0</td>\n",
       "      <td>1</td>\n",
       "      <td>0</td>\n",
       "      <td>1</td>\n",
       "      <td>0</td>\n",
       "      <td>0</td>\n",
       "      <td>0</td>\n",
       "      <td>0</td>\n",
       "    </tr>\n",
       "  </tbody>\n",
       "</table>\n",
       "<p>5 rows × 21 columns</p>\n",
       "</div>"
      ],
      "text/plain": [
       "   Опыт_работы  python  machine learning  sql  pandas  pytorch  \\\n",
       "0            0       1                 1    0       0        1   \n",
       "1            0       0                 0    1       0        0   \n",
       "2            1       1                 0    1       0        0   \n",
       "3            0       1                 1    0       0        0   \n",
       "4            0       1                 0    1       0        0   \n",
       "\n",
       "   английский язык  deep learning  data science  numpy  ...  tensorflow  \\\n",
       "0                0              1             0      0  ...           1   \n",
       "1                0              0             0      0  ...           0   \n",
       "2                1              0             0      0  ...           0   \n",
       "3                0              0             1      0  ...           0   \n",
       "4                0              0             0      0  ...           0   \n",
       "\n",
       "   data analysis  nlp  spark  computer vision  анализ данных  \\\n",
       "0              0    0      0                1              1   \n",
       "1              0    0      0                0              0   \n",
       "2              0    0      0                0              0   \n",
       "3              1    0      0                0              0   \n",
       "4              0    0      1                0              1   \n",
       "\n",
       "   английский\\xa0— b2 — средне-продвинутый  английский\\xa0— c1 — продвинутый  \\\n",
       "0                                        0                                 0   \n",
       "1                                        0                                 0   \n",
       "2                                        1                                 0   \n",
       "3                                        0                                 0   \n",
       "4                                        0                                 0   \n",
       "\n",
       "   git  статистический анализ  \n",
       "0    1                      0  \n",
       "1    0                      0  \n",
       "2    0                      0  \n",
       "3    1                      0  \n",
       "4    0                      0  \n",
       "\n",
       "[5 rows x 21 columns]"
      ]
     },
     "execution_count": 29,
     "metadata": {},
     "output_type": "execute_result"
    }
   ],
   "source": [
    "X.head()"
   ]
  },
  {
   "cell_type": "code",
   "execution_count": 30,
   "id": "fde818d9",
   "metadata": {},
   "outputs": [],
   "source": [
    "y[\"Salary\"] = y.apply(lambda x: x[\"Salary\"] * 72.66 if x[\"Currency\"] == 'USD' else (x['Salary'] * 85.04 if x[\"Currency\"] == 'EUR' else x[\"Salary\"]), axis=1) \n",
    "y.drop(\"Currency\", inplace=True, axis=1)"
   ]
  },
  {
   "cell_type": "code",
   "execution_count": 31,
   "id": "a65d1ad6",
   "metadata": {},
   "outputs": [
    {
     "data": {
      "text/plain": [
       "(62,)"
      ]
     },
     "execution_count": 31,
     "metadata": {},
     "output_type": "execute_result"
    }
   ],
   "source": [
    "y = y.Salary\n",
    "y.shape"
   ]
  },
  {
   "cell_type": "code",
   "execution_count": 33,
   "id": "393ec936",
   "metadata": {},
   "outputs": [
    {
     "data": {
      "text/plain": [
       "(41, 21)"
      ]
     },
     "execution_count": 33,
     "metadata": {},
     "output_type": "execute_result"
    }
   ],
   "source": [
    "from sklearn.model_selection import train_test_split as tts\n",
    "X_train, X_test, y_train, y_test = tts(X, y, test_size=0.33)\n",
    "X_train.shape"
   ]
  },
  {
   "cell_type": "code",
   "execution_count": 34,
   "id": "d6292bee",
   "metadata": {},
   "outputs": [
    {
     "data": {
      "text/plain": [
       "(41,)"
      ]
     },
     "execution_count": 34,
     "metadata": {},
     "output_type": "execute_result"
    }
   ],
   "source": [
    "y_train.shape"
   ]
  },
  {
   "cell_type": "code",
   "execution_count": 35,
   "id": "c4502707",
   "metadata": {},
   "outputs": [],
   "source": [
    "from sklearn.ensemble import RandomForestRegressor\n",
    "Regr = RandomForestRegressor(max_depth=4)"
   ]
  },
  {
   "cell_type": "code",
   "execution_count": 36,
   "id": "10cbf093",
   "metadata": {},
   "outputs": [
    {
     "data": {
      "text/plain": [
       "RandomForestRegressor(max_depth=4)"
      ]
     },
     "execution_count": 36,
     "metadata": {},
     "output_type": "execute_result"
    }
   ],
   "source": [
    "Regr.fit(X_train, y_train)"
   ]
  },
  {
   "cell_type": "code",
   "execution_count": 37,
   "id": "996ba59e",
   "metadata": {},
   "outputs": [],
   "source": [
    "import matplotlib.pyplot as plt"
   ]
  },
  {
   "cell_type": "code",
   "execution_count": 38,
   "id": "456da09e",
   "metadata": {
    "scrolled": true
   },
   "outputs": [
    {
     "data": {
      "text/plain": [
       "-0.07041530191295009"
      ]
     },
     "execution_count": 38,
     "metadata": {},
     "output_type": "execute_result"
    }
   ],
   "source": [
    "Regr.score(X_test, y_test) # Не очень моделька вышла. Содержание тегов мало сказывается:C"
   ]
  },
  {
   "cell_type": "code",
   "execution_count": 39,
   "id": "d7c981e0",
   "metadata": {},
   "outputs": [
    {
     "data": {
      "text/plain": [
       "21"
      ]
     },
     "execution_count": 39,
     "metadata": {},
     "output_type": "execute_result"
    },
    {
     "data": {
      "image/png": "[encoded data removed]",
      "text/plain": [
       "<Figure size 720x720 with 1 Axes>"
      ]
     },
     "metadata": {
      "needs_background": "light"
     },
     "output_type": "display_data"
    }
   ],
   "source": [
    "importances = Regr.feature_importances_\n",
    "std = np.std([tree.feature_importances_ for tree in Regr.estimators_], axis=0)\n",
    "forest_importances = pd.Series(importances, index=X_train.columns)\n",
    "\n",
    "fig, ax = plt.subplots(figsize=(10,10))\n",
    "forest_importances.plot.bar(yerr=std, ax=ax)\n",
    "ax.set_title(\"Feature importances using MDI\")\n",
    "ax.set_ylabel(\"Mean decrease in impurity\")\n",
    "fig.tight_layout()\n",
    "len(std)"
   ]
  },
  {
   "cell_type": "markdown",
   "id": "90eac9be",
   "metadata": {},
   "source": [
    "Попробуем покрутить модель, используя Кросс-Валидацию и поиск лучших параметров:"
   ]
  },
  {
   "cell_type": "code",
   "execution_count": 40,
   "id": "0f85b3a7",
   "metadata": {},
   "outputs": [],
   "source": [
    "from sklearn.model_selection import StratifiedShuffleSplit, GridSearchCV\n",
    "from sklearn import  metrics"
   ]
  },
  {
   "cell_type": "code",
   "execution_count": 41,
   "id": "a3d60527",
   "metadata": {},
   "outputs": [],
   "source": [
    "parametrs = {\"n_estimators\": range(10, 1000), \n",
    "             \"min_samples_split\": 5,\n",
    "            \"max_depth\": range(1, 10),\n",
    "            \"criterion\": [\"absolute_error\", \"squared_error\"]}"
   ]
  },
  {
   "cell_type": "code",
   "execution_count": 48,
   "id": "ed68c529",
   "metadata": {},
   "outputs": [
    {
     "ename": "ValueError",
     "evalue": "The least populated class in y has only 1 member, which is too few. The minimum number of groups for any class cannot be less than 2.",
     "output_type": "error",
     "traceback": [
      "\u001b[1;31m---------------------------------------------------------------------------\u001b[0m",
      "\u001b[1;31mValueError\u001b[0m                                Traceback (most recent call last)",
      "\u001b[1;32m<ipython-input-48-d839292a5c47>\u001b[0m in \u001b[0;36m<module>\u001b[1;34m\u001b[0m\n\u001b[0;32m      2\u001b[0m \u001b[0msss\u001b[0m\u001b[1;33m.\u001b[0m\u001b[0mget_n_splits\u001b[0m\u001b[1;33m(\u001b[0m\u001b[0mX\u001b[0m\u001b[1;33m,\u001b[0m\u001b[0my\u001b[0m\u001b[1;33m)\u001b[0m\u001b[1;33m\u001b[0m\u001b[1;33m\u001b[0m\u001b[0m\n\u001b[0;32m      3\u001b[0m \u001b[0mX\u001b[0m\u001b[1;33m.\u001b[0m\u001b[0mhead\u001b[0m\u001b[1;33m(\u001b[0m\u001b[1;33m)\u001b[0m\u001b[1;33m\u001b[0m\u001b[1;33m\u001b[0m\u001b[0m\n\u001b[1;32m----> 4\u001b[1;33m \u001b[1;32mfor\u001b[0m \u001b[0mtrain_index\u001b[0m\u001b[1;33m,\u001b[0m \u001b[0mtest_index\u001b[0m \u001b[1;32min\u001b[0m \u001b[0msss\u001b[0m\u001b[1;33m.\u001b[0m\u001b[0msplit\u001b[0m\u001b[1;33m(\u001b[0m\u001b[0mX\u001b[0m\u001b[1;33m,\u001b[0m \u001b[0my\u001b[0m\u001b[1;33m)\u001b[0m\u001b[1;33m:\u001b[0m\u001b[1;33m\u001b[0m\u001b[1;33m\u001b[0m\u001b[0m\n\u001b[0m\u001b[0;32m      5\u001b[0m      \u001b[0mprint\u001b[0m\u001b[1;33m(\u001b[0m\u001b[1;34m\"TRAIN:\"\u001b[0m\u001b[1;33m,\u001b[0m \u001b[0mtrain_index\u001b[0m\u001b[1;33m,\u001b[0m \u001b[1;34m\"TEST:\"\u001b[0m\u001b[1;33m,\u001b[0m \u001b[0mtest_index\u001b[0m\u001b[1;33m)\u001b[0m\u001b[1;33m\u001b[0m\u001b[1;33m\u001b[0m\u001b[0m\n\u001b[0;32m      6\u001b[0m      \u001b[0mX_train\u001b[0m\u001b[1;33m,\u001b[0m \u001b[0mX_test\u001b[0m \u001b[1;33m=\u001b[0m \u001b[0mX\u001b[0m\u001b[1;33m[\u001b[0m\u001b[0mtrain_index\u001b[0m\u001b[1;33m]\u001b[0m\u001b[1;33m,\u001b[0m \u001b[0mX\u001b[0m\u001b[1;33m[\u001b[0m\u001b[0mtest_index\u001b[0m\u001b[1;33m]\u001b[0m\u001b[1;33m\u001b[0m\u001b[1;33m\u001b[0m\u001b[0m\n",
      "\u001b[1;32m~\\anaconda3\\lib\\site-packages\\sklearn\\model_selection\\_split.py\u001b[0m in \u001b[0;36msplit\u001b[1;34m(self, X, y, groups)\u001b[0m\n\u001b[0;32m   1385\u001b[0m         \"\"\"\n\u001b[0;32m   1386\u001b[0m         \u001b[0mX\u001b[0m\u001b[1;33m,\u001b[0m \u001b[0my\u001b[0m\u001b[1;33m,\u001b[0m \u001b[0mgroups\u001b[0m \u001b[1;33m=\u001b[0m \u001b[0mindexable\u001b[0m\u001b[1;33m(\u001b[0m\u001b[0mX\u001b[0m\u001b[1;33m,\u001b[0m \u001b[0my\u001b[0m\u001b[1;33m,\u001b[0m \u001b[0mgroups\u001b[0m\u001b[1;33m)\u001b[0m\u001b[1;33m\u001b[0m\u001b[1;33m\u001b[0m\u001b[0m\n\u001b[1;32m-> 1387\u001b[1;33m         \u001b[1;32mfor\u001b[0m \u001b[0mtrain\u001b[0m\u001b[1;33m,\u001b[0m \u001b[0mtest\u001b[0m \u001b[1;32min\u001b[0m \u001b[0mself\u001b[0m\u001b[1;33m.\u001b[0m\u001b[0m_iter_indices\u001b[0m\u001b[1;33m(\u001b[0m\u001b[0mX\u001b[0m\u001b[1;33m,\u001b[0m \u001b[0my\u001b[0m\u001b[1;33m,\u001b[0m \u001b[0mgroups\u001b[0m\u001b[1;33m)\u001b[0m\u001b[1;33m:\u001b[0m\u001b[1;33m\u001b[0m\u001b[1;33m\u001b[0m\u001b[0m\n\u001b[0m\u001b[0;32m   1388\u001b[0m             \u001b[1;32myield\u001b[0m \u001b[0mtrain\u001b[0m\u001b[1;33m,\u001b[0m \u001b[0mtest\u001b[0m\u001b[1;33m\u001b[0m\u001b[1;33m\u001b[0m\u001b[0m\n\u001b[0;32m   1389\u001b[0m \u001b[1;33m\u001b[0m\u001b[0m\n",
      "\u001b[1;32m~\\anaconda3\\lib\\site-packages\\sklearn\\model_selection\\_split.py\u001b[0m in \u001b[0;36m_iter_indices\u001b[1;34m(self, X, y, groups)\u001b[0m\n\u001b[0;32m   1713\u001b[0m         \u001b[0mclass_counts\u001b[0m \u001b[1;33m=\u001b[0m \u001b[0mnp\u001b[0m\u001b[1;33m.\u001b[0m\u001b[0mbincount\u001b[0m\u001b[1;33m(\u001b[0m\u001b[0my_indices\u001b[0m\u001b[1;33m)\u001b[0m\u001b[1;33m\u001b[0m\u001b[1;33m\u001b[0m\u001b[0m\n\u001b[0;32m   1714\u001b[0m         \u001b[1;32mif\u001b[0m \u001b[0mnp\u001b[0m\u001b[1;33m.\u001b[0m\u001b[0mmin\u001b[0m\u001b[1;33m(\u001b[0m\u001b[0mclass_counts\u001b[0m\u001b[1;33m)\u001b[0m \u001b[1;33m<\u001b[0m \u001b[1;36m2\u001b[0m\u001b[1;33m:\u001b[0m\u001b[1;33m\u001b[0m\u001b[1;33m\u001b[0m\u001b[0m\n\u001b[1;32m-> 1715\u001b[1;33m             raise ValueError(\"The least populated class in y has only 1\"\n\u001b[0m\u001b[0;32m   1716\u001b[0m                              \u001b[1;34m\" member, which is too few. The minimum\"\u001b[0m\u001b[1;33m\u001b[0m\u001b[1;33m\u001b[0m\u001b[0m\n\u001b[0;32m   1717\u001b[0m                              \u001b[1;34m\" number of groups for any class cannot\"\u001b[0m\u001b[1;33m\u001b[0m\u001b[1;33m\u001b[0m\u001b[0m\n",
      "\u001b[1;31mValueError\u001b[0m: The least populated class in y has only 1 member, which is too few. The minimum number of groups for any class cannot be less than 2."
     ]
    }
   ],
   "source": [
    "sss = StratifiedShuffleSplit(n_splits = 5, test_size=0.33, random_state=0 )\n",
    "sss.get_n_splits(X,y)\n",
    "X.head()\n",
    "for train_index, test_index in sss.split(X, y):\n",
    "     print(\"TRAIN:\", train_index, \"TEST:\", test_index)\n",
    "     X_train, X_test = X[train_index], X[test_index]\n",
    "     y_train, y_test = y[train_index], y[test_index]"
   ]
  }
 ],
 "metadata": {
  "kernelspec": {
   "display_name": "Python 3",
   "language": "python",
   "name": "python3"
  },
  "language_info": {
   "codemirror_mode": {
    "name": "ipython",
    "version": 3
   },
   "file_extension": ".py",
   "mimetype": "text/x-python",
   "name": "python",
   "nbconvert_exporter": "python",
   "pygments_lexer": "ipython3",
   "version": "3.8.8"
  }
 },
 "nbformat": 4,
 "nbformat_minor": 5
}
